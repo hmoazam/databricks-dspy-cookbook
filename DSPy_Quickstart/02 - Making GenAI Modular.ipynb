{
 "cells": [
  {
   "cell_type": "markdown",
   "metadata": {
    "application/vnd.databricks.v1+cell": {
     "cellMetadata": {},
     "inputWidgets": {},
     "nuid": "50ed0bc1-e08d-4fa3-b143-7847b8234b4d",
     "showTitle": false,
     "tableResultSettingsMap": {},
     "title": ""
    }
   },
   "source": [
    "# Making our agents Modular"
   ]
  },
  {
   "cell_type": "markdown",
   "metadata": {
    "application/vnd.databricks.v1+cell": {
     "cellMetadata": {},
     "inputWidgets": {},
     "nuid": "f464c49d-7331-472d-a306-bdf8cdf6f522",
     "showTitle": false,
     "tableResultSettingsMap": {},
     "title": ""
    }
   },
   "source": [
    "A DSPy signature defines what are the inputs and outputs of your task is. Though a Module defines how that task is executed. Lets see an example of this so we can see the pro's of using Modules"
   ]
  },
  {
   "cell_type": "code",
   "execution_count": 0,
   "metadata": {
    "application/vnd.databricks.v1+cell": {
     "cellMetadata": {
      "byteLimit": 2048000,
      "rowLimit": 10000
     },
     "inputWidgets": {},
     "nuid": "34b691b4-f562-4a0c-8bd3-47ad4ed678f0",
     "showTitle": false,
     "tableResultSettingsMap": {},
     "title": ""
    }
   },
   "outputs": [],
   "source": [
    "%pip install dspy mlflow\n",
    "dbutils.library.restartPython()"
   ]
  },
  {
   "cell_type": "code",
   "execution_count": 0,
   "metadata": {
    "application/vnd.databricks.v1+cell": {
     "cellMetadata": {
      "byteLimit": 2048000,
      "rowLimit": 10000
     },
     "inputWidgets": {},
     "nuid": "a571282e-632e-4e08-941c-db6e28cfb591",
     "showTitle": false,
     "tableResultSettingsMap": {},
     "title": ""
    }
   },
   "outputs": [],
   "source": [
    "import dspy\n",
    "from typing import Literal\n",
    "import mlflow\n",
    "\n",
    "llama = dspy.LM('databricks/databricks-meta-llama-3-3-70b-instruct', cache=False)\n",
    "dspy.configure(lm = llama)\n",
    "\n",
    "mlflow.dspy.autolog()"
   ]
  },
  {
   "cell_type": "markdown",
   "metadata": {
    "application/vnd.databricks.v1+cell": {
     "cellMetadata": {},
     "inputWidgets": {},
     "nuid": "6a7a9246-ece6-41f0-b6b7-afa02fd30ba4",
     "showTitle": false,
     "tableResultSettingsMap": {},
     "title": ""
    }
   },
   "source": [
    "## Lets bring back our Review and Support Signatures"
   ]
  },
  {
   "cell_type": "code",
   "execution_count": 0,
   "metadata": {
    "application/vnd.databricks.v1+cell": {
     "cellMetadata": {
      "byteLimit": 2048000,
      "rowLimit": 10000
     },
     "inputWidgets": {},
     "nuid": "3d5a9c2e-bcc1-4e2e-863a-e326157e3313",
     "showTitle": false,
     "tableResultSettingsMap": {},
     "title": ""
    }
   },
   "outputs": [],
   "source": [
    "class AnalyzeReview(dspy.Signature):\n",
    "    \"\"\"Analyze a product review to determine sentiment, extract key features, and provide a summary.\"\"\"\n",
    "\n",
    "    review_text : str = dspy.InputField()\n",
    "    product_category : str = dspy.InputField()\n",
    "\n",
    "    sentiment : Literal[\"positive\", \"negative\", \"neutral\"] = dspy.OutputField() # We can enforce types\n",
    "    key_features = dspy.OutputField()\n",
    "    summary = dspy.OutputField(desc=\"A concise summary of the review content.\")    #If we need to guide output field, we can add a description\n",
    "\n",
    "class GenerateSupportResponse(dspy.Signature):\n",
    "    \"\"\"Generate a customer support response based on review analysis.\"\"\"\n",
    "\n",
    "    sentiment = dspy.InputField(desc=\"The overall sentiment from the review analysis.\")\n",
    "    key_features = dspy.InputField(format=list, desc=\"Key features extracted from the review.\")\n",
    "    summary = dspy.InputField(desc=\"Summary of the review content.\")\n",
    "\n",
    "    support_response = dspy.OutputField(desc=\"A customer support response addressing the review.\")\n"
   ]
  },
  {
   "cell_type": "markdown",
   "metadata": {
    "application/vnd.databricks.v1+cell": {
     "cellMetadata": {},
     "inputWidgets": {},
     "nuid": "9f3c4d8a-f961-485d-939e-c8574e9fadbe",
     "showTitle": false,
     "tableResultSettingsMap": {},
     "title": ""
    }
   },
   "source": [
    "If you remember before, to use these two signatures together, we had to call predictors on them individually. By wrapping them up in a module, we can call this module to excute the logic. This is essentially the same as standard programming, but our class is the chained logic"
   ]
  },
  {
   "cell_type": "code",
   "execution_count": 0,
   "metadata": {
    "application/vnd.databricks.v1+cell": {
     "cellMetadata": {
      "byteLimit": 2048000,
      "rowLimit": 10000
     },
     "inputWidgets": {},
     "nuid": "38a272e1-47c3-4043-922e-31046757726f",
     "showTitle": false,
     "tableResultSettingsMap": {},
     "title": ""
    }
   },
   "outputs": [],
   "source": [
    "class ReviewSupportModule(dspy.Module):\n",
    "    def __init__(self):\n",
    "        super().__init__()\n",
    "        self.analyze = dspy.Predict(AnalyzeReview)\n",
    "        self.respond = dspy.Predict(GenerateSupportResponse)\n",
    "\n",
    "\n",
    "    def forward(self, review_text, product_category):  #Forward method is the entry point for the module\n",
    "        analysis = self.analyze(review_text=review_text, product_category=product_category)\n",
    "        response = self.respond(\n",
    "            sentiment=analysis.sentiment,\n",
    "            key_features=analysis.key_features,\n",
    "            summary=analysis.summary\n",
    "        )\n",
    "        return dspy.Prediction(support_response=response.support_response)"
   ]
  },
  {
   "cell_type": "code",
   "execution_count": 0,
   "metadata": {
    "application/vnd.databricks.v1+cell": {
     "cellMetadata": {
      "byteLimit": 2048000,
      "rowLimit": 10000
     },
     "inputWidgets": {},
     "nuid": "1bfa1717-c5c7-4d98-bfba-625a0320b447",
     "showTitle": false,
     "tableResultSettingsMap": {},
     "title": ""
    }
   },
   "outputs": [],
   "source": [
    "support_module = ReviewSupportModule()\n",
    "\n",
    "review_text = \"I love this vacuum, however I wish the bag size was bigger.\"\n",
    "product_category = \"Electronics\"\n",
    "\n",
    "result = support_module(review_text=review_text, product_category=product_category)\n",
    "\n",
    "print(result.support_response)\n"
   ]
  },
  {
   "cell_type": "markdown",
   "metadata": {
    "application/vnd.databricks.v1+cell": {
     "cellMetadata": {},
     "inputWidgets": {},
     "nuid": "f0cc40f7-2f39-4550-831a-30b2020a44a6",
     "showTitle": false,
     "tableResultSettingsMap": {},
     "title": ""
    }
   },
   "source": []
  },
  {
   "cell_type": "code",
   "execution_count": 0,
   "metadata": {
    "application/vnd.databricks.v1+cell": {
     "cellMetadata": {},
     "inputWidgets": {},
     "nuid": "30ffd6ea-402b-461d-bc62-25cedb91e684",
     "showTitle": false,
     "tableResultSettingsMap": {},
     "title": ""
    }
   },
   "outputs": [],
   "source": [
    "class ReviewSupportModulev2(dspy.Module):\n",
    "    def __init__(self):\n",
    "        super().__init__()\n",
    "        self.analyze = dspy.Predict(AnalyzeReview)\n",
    "        self.respond = dspy.Predict(GenerateSupportResponse)\n",
    "\n",
    "    def add_prefix(self, key_features):\n",
    "        return \"category: \" + key_features\n",
    "\n",
    "\n",
    "    def forward(self, review_text, product_category):  #Forward method is the entry point for the module\n",
    "        analysis = self.analyze(review_text=review_text, product_category=product_category)\n",
    "        analysis.key_features = self.add_prefix(analysis.key_features)\n",
    "        response = self.respond(\n",
    "            sentiment=analysis.sentiment,\n",
    "            key_features=analysis.key_features,\n",
    "            summary=analysis.summary\n",
    "        )\n",
    "        return dspy.Prediction(support_response=response.support_response)"
   ]
  }
 ],
 "metadata": {
  "application/vnd.databricks.v1+notebook": {
   "computePreferences": null,
   "dashboards": [],
   "environmentMetadata": {
    "base_environment": "",
    "environment_version": "2"
   },
   "inputWidgetPreferences": null,
   "language": "python",
   "notebookMetadata": {
    "pythonIndentUnit": 2
   },
   "notebookName": "02 - Making GenAI Modular",
   "widgets": {}
  },
  "language_info": {
   "name": "python"
  }
 },
 "nbformat": 4,
 "nbformat_minor": 0
}
