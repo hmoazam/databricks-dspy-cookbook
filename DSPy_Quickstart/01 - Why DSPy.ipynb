{
 "cells": [
  {
   "cell_type": "markdown",
   "metadata": {
    "application/vnd.databricks.v1+cell": {
     "cellMetadata": {},
     "inputWidgets": {},
     "nuid": "4b11750c-02f8-49ec-83d0-032c2c86d445",
     "showTitle": false,
     "tableResultSettingsMap": {},
     "title": ""
    }
   },
   "source": [
    "# Why use DSPy"
   ]
  },
  {
   "cell_type": "markdown",
   "metadata": {
    "application/vnd.databricks.v1+cell": {
     "cellMetadata": {},
     "inputWidgets": {},
     "nuid": "a9d3f912-a821-4e81-a67c-f9ee9e9085be",
     "showTitle": false,
     "tableResultSettingsMap": {},
     "title": ""
    }
   },
   "source": [
    "DSPy is a framework that focuses on creating GenAI applications with programming rather than prompting. At its core, it lets us create **Signatures** that allow us to provide inputs to LLMs and recieve outputs as variables. Letting us go back to good old programming"
   ]
  },
  {
   "cell_type": "code",
   "execution_count": 0,
   "metadata": {
    "application/vnd.databricks.v1+cell": {
     "cellMetadata": {
      "byteLimit": 2048000,
      "rowLimit": 10000
     },
     "inputWidgets": {},
     "nuid": "83999856-427e-4da2-80f9-2fc08a81c1e6",
     "showTitle": false,
     "tableResultSettingsMap": {},
     "title": ""
    }
   },
   "outputs": [],
   "source": [
    "%pip install dspy \n",
    "dbutils.library.restartPython()"
   ]
  },
  {
   "cell_type": "code",
   "execution_count": 0,
   "metadata": {
    "application/vnd.databricks.v1+cell": {
     "cellMetadata": {
      "byteLimit": 2048000,
      "rowLimit": 10000
     },
     "inputWidgets": {},
     "nuid": "9b0dfddf-4efe-47cb-b5ce-d96bd74795fd",
     "showTitle": false,
     "tableResultSettingsMap": {},
     "title": ""
    }
   },
   "outputs": [],
   "source": [
    "import dspy\n",
    "from typing import Literal"
   ]
  },
  {
   "cell_type": "markdown",
   "metadata": {
    "application/vnd.databricks.v1+cell": {
     "cellMetadata": {},
     "inputWidgets": {},
     "nuid": "87ed65a9-a0f2-47b8-859a-6274e471147b",
     "showTitle": false,
     "tableResultSettingsMap": {},
     "title": ""
    }
   },
   "source": [
    "First, we will set what LLM we will be using"
   ]
  },
  {
   "cell_type": "code",
   "execution_count": 0,
   "metadata": {
    "application/vnd.databricks.v1+cell": {
     "cellMetadata": {
      "byteLimit": 2048000,
      "rowLimit": 10000
     },
     "inputWidgets": {},
     "nuid": "faa067ed-2994-4bb5-b331-f66d2cc1e67a",
     "showTitle": false,
     "tableResultSettingsMap": {},
     "title": ""
    }
   },
   "outputs": [],
   "source": [
    "llama = dspy.LM('databricks/databricks-meta-llama-3-3-70b-instruct', cache=False)\n",
    "dspy.configure(lm = llama)"
   ]
  },
  {
   "cell_type": "markdown",
   "metadata": {
    "application/vnd.databricks.v1+cell": {
     "cellMetadata": {},
     "inputWidgets": {},
     "nuid": "60f2d0cd-0dd4-4460-bc6a-0ae75eced8d0",
     "showTitle": false,
     "tableResultSettingsMap": {},
     "title": ""
    }
   },
   "source": [
    "Lets take a look at a simple input->output example of a signature. Lets create a signature that expects a singular input and puts out a singular output"
   ]
  },
  {
   "cell_type": "code",
   "execution_count": 0,
   "metadata": {
    "application/vnd.databricks.v1+cell": {
     "cellMetadata": {
      "byteLimit": 2048000,
      "rowLimit": 10000
     },
     "inputWidgets": {},
     "nuid": "32b322f7-7553-4078-acae-a516ae0d57d9",
     "showTitle": false,
     "tableResultSettingsMap": {},
     "title": ""
    }
   },
   "outputs": [],
   "source": [
    "class BasicQA(dspy.Signature):\n",
    "    \"\"\"Answer questions with short factoid answers.\"\"\"        \n",
    "    user_question: str = dspy.InputField()\n",
    "    answer: str = dspy.OutputField()"
   ]
  },
  {
   "cell_type": "markdown",
   "metadata": {
    "application/vnd.databricks.v1+cell": {
     "cellMetadata": {},
     "inputWidgets": {},
     "nuid": "2740016e-d6a0-4f78-84e3-2c06dd1a0e24",
     "showTitle": false,
     "tableResultSettingsMap": {},
     "title": ""
    }
   },
   "source": [
    "While making a signature, you can guide the input and outputs with descriptions for each input and output. Additionally, you can have a docstring for the signature as a whole."
   ]
  },
  {
   "cell_type": "code",
   "execution_count": 0,
   "metadata": {
    "application/vnd.databricks.v1+cell": {
     "cellMetadata": {
      "byteLimit": 2048000,
      "rowLimit": 10000
     },
     "inputWidgets": {},
     "nuid": "b3d63edf-f7a4-459d-b84d-c762a41b9733",
     "showTitle": false,
     "tableResultSettingsMap": {},
     "title": ""
    }
   },
   "outputs": [],
   "source": [
    "generate_answer_predictor = dspy.Predict(BasicQA)\n",
    "pred = generate_answer(user_question= \"What is the capital of France?\")\n",
    "print(pred.answer)         # Look we can grab the answer from the class variable!"
   ]
  },
  {
   "cell_type": "markdown",
   "metadata": {
    "application/vnd.databricks.v1+cell": {
     "cellMetadata": {},
     "inputWidgets": {},
     "nuid": "fbded67d-0fd6-4235-b2f8-bd3953e8f665",
     "showTitle": false,
     "tableResultSettingsMap": {},
     "title": ""
    }
   },
   "source": [
    "While this may look simple, the power lies in the way we can interact with outputs as variables. Lets see this in an example with multiple-variables being inserted and outputted!"
   ]
  },
  {
   "cell_type": "code",
   "execution_count": 0,
   "metadata": {
    "application/vnd.databricks.v1+cell": {
     "cellMetadata": {
      "byteLimit": 2048000,
      "rowLimit": 10000
     },
     "inputWidgets": {},
     "nuid": "08da704c-6560-453b-af45-aa3208cce9e5",
     "showTitle": false,
     "tableResultSettingsMap": {},
     "title": ""
    }
   },
   "outputs": [],
   "source": [
    "class AnalyzeReview(dspy.Signature):\n",
    "    \"\"\"Analyze a product review to determine sentiment, extract key features, and provide a summary.\"\"\"\n",
    "\n",
    "    review_text : str = dspy.InputField()\n",
    "    product_category : str = dspy.InputField()\n",
    "\n",
    "    sentiment : Literal[\"positive\", \"negative\", \"neutral\"] = dspy.OutputField() # We can enforce types\n",
    "    key_features = dspy.OutputField()\n",
    "    summary = dspy.OutputField(desc=\"A concise summary of the review content.\")    #If we need to guide output field, we can add a description"
   ]
  },
  {
   "cell_type": "markdown",
   "metadata": {
    "application/vnd.databricks.v1+cell": {
     "cellMetadata": {},
     "inputWidgets": {},
     "nuid": "4352e161-6931-4efd-8319-4d18b8be96b3",
     "showTitle": false,
     "tableResultSettingsMap": {},
     "title": ""
    }
   },
   "source": [
    "One thing you may notice is we can encforce types. For instance\n",
    "`sentiment : Literal[\"positive\", \"negative\", \"neutral\"]` means that the output will always be one of these three options"
   ]
  },
  {
   "cell_type": "code",
   "execution_count": 0,
   "metadata": {
    "application/vnd.databricks.v1+cell": {
     "cellMetadata": {
      "byteLimit": 2048000,
      "rowLimit": 10000
     },
     "inputWidgets": {},
     "nuid": "38fa3a68-f106-45a1-8b0f-f8d7c5a5699f",
     "showTitle": false,
     "tableResultSettingsMap": {},
     "title": ""
    }
   },
   "outputs": [],
   "source": [
    "analyze_review_predictor = dspy.Predict(AnalyzeReview)\n",
    "\n",
    "ex_review_text = \"I love the battery life of this camera, but the lens quality could be better.\"\n",
    "ex_product_category = \"Electronics\"\n",
    "\n",
    "analyze_results = analyze_review_predictor(\n",
    "    review_text= ex_review_text,\n",
    "    product_category= ex_product_category\n",
    ")\n",
    "\n",
    "print(analyze_results)\n",
    "\n",
    "# print(\"Sentiment:\", analyze_results.sentiment)          # Access the sentiment output\n",
    "# print(\"Key Features:\", analyze_results.key_features)    # Access the key_features output\n",
    "# print(\"Summary:\", analyze_results.summary)              # Access the summary output"
   ]
  },
  {
   "cell_type": "code",
   "execution_count": 0,
   "metadata": {
    "application/vnd.databricks.v1+cell": {
     "cellMetadata": {
      "byteLimit": 2048000,
      "rowLimit": 10000
     },
     "inputWidgets": {},
     "nuid": "4742d8bf-485c-48dc-8001-8eb7a08f0c61",
     "showTitle": false,
     "tableResultSettingsMap": {},
     "title": ""
    }
   },
   "outputs": [],
   "source": [
    "print(\"Sentiment:\", analyze_results.sentiment)          # Access the sentiment output\n",
    "print(\"Key Features:\", analyze_results.key_features)    # Access the key_features output\n",
    "print(\"Summary:\", analyze_results.summary)              # Access the summary output"
   ]
  },
  {
   "cell_type": "markdown",
   "metadata": {
    "application/vnd.databricks.v1+cell": {
     "cellMetadata": {},
     "inputWidgets": {},
     "nuid": "81348343-7742-40be-945f-d286893ad6cb",
     "showTitle": false,
     "tableResultSettingsMap": {},
     "title": ""
    }
   },
   "source": [
    "Notice how we were able to interact with our LLM like a python function where we passed input variables and and recieved varibles out! This is where DSPy strength lies. It lets us `write programs and not prompts`"
   ]
  },
  {
   "cell_type": "markdown",
   "metadata": {
    "application/vnd.databricks.v1+cell": {
     "cellMetadata": {},
     "inputWidgets": {},
     "nuid": "1aaf900d-9cb9-459b-b8af-af2202e73c4b",
     "showTitle": false,
     "tableResultSettingsMap": {},
     "title": ""
    }
   },
   "source": [
    "# We can use variables, so what?\n",
    "Great question! Why do we even care? Well because variables lets us **Program** instead of **prompt**. This opens several doors, for instance the outputs from one signature can be used as inputs for another. Effectifly we can start defining logic!"
   ]
  },
  {
   "cell_type": "markdown",
   "metadata": {
    "application/vnd.databricks.v1+cell": {
     "cellMetadata": {},
     "inputWidgets": {},
     "nuid": "300c904d-df3e-420c-b4de-675680c6dd0a",
     "showTitle": false,
     "tableResultSettingsMap": {},
     "title": ""
    }
   },
   "source": [
    "To demostrate this. We are going to take our AnalyzeReview Signature, and use those outputs to genereate a support response."
   ]
  },
  {
   "cell_type": "code",
   "execution_count": 0,
   "metadata": {
    "application/vnd.databricks.v1+cell": {
     "cellMetadata": {
      "byteLimit": 2048000,
      "rowLimit": 10000
     },
     "inputWidgets": {},
     "nuid": "336ef834-f749-46c1-a6a1-648f59e44dd9",
     "showTitle": false,
     "tableResultSettingsMap": {},
     "title": ""
    }
   },
   "outputs": [],
   "source": [
    "class GenerateSupportResponse(dspy.Signature):\n",
    "    \"\"\"Generate a customer support response based on review analysis.\"\"\"\n",
    "\n",
    "    sentiment = dspy.InputField(desc=\"The overall sentiment from the review analysis.\")\n",
    "    key_features = dspy.InputField(format=list, desc=\"Key features extracted from the review.\")\n",
    "    summary = dspy.InputField(desc=\"Summary of the review content.\")\n",
    "\n",
    "    support_response = dspy.OutputField(desc=\"A customer support response addressing the review.\")\n",
    "\n",
    "generate_support_response_predictor = dspy.Predict(GenerateSupportResponse)"
   ]
  },
  {
   "cell_type": "markdown",
   "metadata": {
    "application/vnd.databricks.v1+cell": {
     "cellMetadata": {},
     "inputWidgets": {},
     "nuid": "80caa6ad-f9ae-4f9b-b036-55e6dc9210c3",
     "showTitle": false,
     "tableResultSettingsMap": {},
     "title": ""
    }
   },
   "source": [
    "Lets see if this works by itself"
   ]
  },
  {
   "cell_type": "code",
   "execution_count": 0,
   "metadata": {
    "application/vnd.databricks.v1+cell": {
     "cellMetadata": {
      "byteLimit": 2048000,
      "rowLimit": 10000
     },
     "inputWidgets": {},
     "nuid": "fe4b6c45-83c1-450c-b254-7c8e6338f1da",
     "showTitle": false,
     "tableResultSettingsMap": {},
     "title": ""
    }
   },
   "outputs": [],
   "source": [
    "generate_support_response_predictor = dspy.Predict(GenerateSupportResponse)\n",
    "\n",
    "gen_support_response_results = generate_support_response_predictor(\n",
    "    sentiment= \"Positive\",\n",
    "    key_features= 'battery life, lens quality'\n",
    "    summary= \"The reviewer is satisfied with the camera's battery life but finds the lens quality to be subpar.\"\n",
    ")\n",
    "\n",
    "print(gen_support_response_results.support_response)\n"
   ]
  },
  {
   "cell_type": "markdown",
   "metadata": {
    "application/vnd.databricks.v1+cell": {
     "cellMetadata": {},
     "inputWidgets": {},
     "nuid": "3e806ad2-4ecc-466b-9715-71ddcb392ee3",
     "showTitle": false,
     "tableResultSettingsMap": {},
     "title": ""
    }
   },
   "source": [
    "Awesome, but using hardcoded values is not programming forward. We want our inputs to be the outputs from our analzye review signature. Lets now wrap them together"
   ]
  },
  {
   "cell_type": "code",
   "execution_count": 0,
   "metadata": {
    "application/vnd.databricks.v1+cell": {
     "cellMetadata": {
      "byteLimit": 2048000,
      "rowLimit": 10000
     },
     "inputWidgets": {},
     "nuid": "c6060f6a-b3f2-412b-95a6-58567c18ae56",
     "showTitle": false,
     "tableResultSettingsMap": {},
     "title": ""
    }
   },
   "outputs": [],
   "source": [
    "ex_review_text = \"I love this vacuum, however I wish the bag size was bigger.\"\n",
    "ex_product_category = \"Electronics\"\n",
    "\n",
    "analyze_results = analyze_review_predictor(\n",
    "    review_text= ex_review_text,\n",
    "    product_category= ex_product_category\n",
    ")\n",
    "\n",
    "gen_support_response_results = generate_support_response_predictor(\n",
    "    sentiment=analyze_results.sentiment,\n",
    "    key_features=analyze_results.key_features,\n",
    "    summary=analyze_results.summary\n",
    ")\n",
    "\n",
    "print(gen_support_response_results.support_response)"
   ]
  },
  {
   "cell_type": "markdown",
   "metadata": {
    "application/vnd.databricks.v1+cell": {
     "cellMetadata": {},
     "inputWidgets": {},
     "nuid": "f065651e-da1d-4188-8f99-d3494a150fbe",
     "showTitle": false,
     "tableResultSettingsMap": {},
     "title": ""
    }
   },
   "source": [
    "# Try It Yourself"
   ]
  },
  {
   "cell_type": "code",
   "execution_count": 0,
   "metadata": {
    "application/vnd.databricks.v1+cell": {
     "cellMetadata": {},
     "inputWidgets": {},
     "nuid": "938d37df-6895-4630-a0aa-b041547fff03",
     "showTitle": false,
     "tableResultSettingsMap": {},
     "title": ""
    }
   },
   "outputs": [],
   "source": [
    "class <Signature_Name>(dspy.Signature):\n",
    "    \"\"\"<DocString>\"\"\" #Provide a docstring that informs the LLM the purpose of this signature\n",
    "\n",
    "    <input Variable> : str = dspy.InputField() # Provide a variable name and type. Note that the LLM will use this name to understand the inputfield. You can also provide a description for the input field\n",
    "    \n",
    "    \n",
    "    <output vairable> : str = dspy.InputField() #Same for the output field"
   ]
  },
  {
   "cell_type": "code",
   "execution_count": 0,
   "metadata": {
    "application/vnd.databricks.v1+cell": {
     "cellMetadata": {},
     "inputWidgets": {},
     "nuid": "b54ff9c6-04f8-4cd2-b391-36df8ec09964",
     "showTitle": false,
     "tableResultSettingsMap": {},
     "title": ""
    }
   },
   "outputs": [],
   "source": [
    "dspy_predictor = dspy.predict(<Signature_Name>)\n",
    "\n",
    "dspy_predictor = (<input Variable> = \"<User Input>\")\n",
    "\n",
    "print(dspy_predictor.<output vairable>)"
   ]
  }
 ],
 "metadata": {
  "application/vnd.databricks.v1+notebook": {
   "computePreferences": null,
   "dashboards": [],
   "environmentMetadata": {
    "base_environment": "",
    "environment_version": "2"
   },
   "inputWidgetPreferences": null,
   "language": "python",
   "notebookMetadata": {
    "pythonIndentUnit": 2
   },
   "notebookName": "01 - Why DSPy",
   "widgets": {}
  },
  "language_info": {
   "name": "python"
  }
 },
 "nbformat": 4,
 "nbformat_minor": 0
}
