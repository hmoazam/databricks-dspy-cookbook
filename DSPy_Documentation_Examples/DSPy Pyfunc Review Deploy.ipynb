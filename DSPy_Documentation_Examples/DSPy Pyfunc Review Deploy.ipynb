{
 "cells": [
  {
   "cell_type": "markdown",
   "metadata": {
    "application/vnd.databricks.v1+cell": {
     "cellMetadata": {},
     "inputWidgets": {},
     "nuid": "e50cef24-ed22-445e-b219-3b6fbc6f1a16",
     "showTitle": false,
     "tableResultSettingsMap": {},
     "title": ""
    }
   },
   "source": [
    "# Mosaic AI Agent Framework: Author and deploy a tool-calling DSPy agent\n",
    "This notebook demonstrates how to author a DSPy agent that's compatible with Mosaic AI Agent Framework features. In this notebook you learn to:\n",
    "\n",
    "Author a tool-calling DSPy agent wrapped with ChatAgent\n",
    "Manually test the agent's output\n",
    "\n",
    "Evaluate the agent using Mosaic AI Agent Evaluation\n",
    "Log and deploy the agent\n",
    "To learn more about authoring an agent using Mosaic AI Agent Framework, see Databricks documentation ([AWS](https://docs.databricks.com/aws/generative-ai/agent-framework/author-agent) | [Azure](https://learn.microsoft.com/azure/databricks/generative-ai/agent-framework/create-chat-model)).\n",
    "\n",
    "Prerequisites\n",
    "Address all TODOs in this notebook."
   ]
  },
  {
   "cell_type": "code",
   "execution_count": 0,
   "metadata": {
    "application/vnd.databricks.v1+cell": {
     "cellMetadata": {
      "byteLimit": 2048000,
      "rowLimit": 10000
     },
     "inputWidgets": {},
     "nuid": "eb0e793e-ed00-46dc-a031-2ddf1cf1ab12",
     "showTitle": false,
     "tableResultSettingsMap": {},
     "title": ""
    }
   },
   "outputs": [],
   "source": [
    "%pip install dspy mlflow unitycatalog-ai[databricks] pyjokes\n",
    "dbutils.library.restartPython()"
   ]
  },
  {
   "cell_type": "markdown",
   "metadata": {
    "application/vnd.databricks.v1+cell": {
     "cellMetadata": {},
     "inputWidgets": {},
     "nuid": "eaf8c4d9-1527-430c-9bdf-67e5591a1e23",
     "showTitle": false,
     "tableResultSettingsMap": {},
     "title": ""
    }
   },
   "source": [
    "\n",
    "## Define the agent in code\n",
    "Define the agent code in a single cell below. This lets you easily write the agent code to a local Python file, using the `%%writefile` magic command, for subsequent logging and deployment.\n",
    "\n",
    "#### Agent tools\n",
    "This agent code adds the built-in Unity Catalog function `system.ai.python_exec` to the agent. The agent code also includes commented-out sample code for adding a vector search index to perform unstructured data retrieval.\n",
    "\n",
    "For more examples of tools to add to your agent, see Databricks documentation ([AWS](https://docs.databricks.com/aws/generative-ai/agent-framework/agent-tool) | [Azure](https://learn.microsoft.com/en-us/azure/databricks/generative-ai/agent-framework/agent-tool))\n",
    "\n",
    "#### Wrap the DSPy agent using the `ChatAgent` interface\n",
    "\n",
    "DSPy is a lightweight, pure python framework. It does not use framework specific objects to be compatible with other libraries. \n",
    "\n",
    "As such, you can simply use Databricks functionality as is via the SDK, Unity Catalog AI or MLflow\n",
    "\n",
    "Databricks recommends using `ChatAgent` as it simplifies authoring multi-turn conversational agents using an open source standard. See MLflow's [ChatAgent documentation](https://mlflow.org/docs/latest/python_api/mlflow.pyfunc.html#mlflow.pyfunc.ChatAgent).\n",
    "\n"
   ]
  },
  {
   "cell_type": "code",
   "execution_count": 0,
   "metadata": {
    "application/vnd.databricks.v1+cell": {
     "cellMetadata": {
      "byteLimit": 2048000,
      "rowLimit": 10000
     },
     "inputWidgets": {},
     "nuid": "120eb29d-0a8d-42db-baf9-7cc437274ba5",
     "showTitle": false,
     "tableResultSettingsMap": {},
     "title": ""
    }
   },
   "outputs": [],
   "source": [
    "import mlflow\n",
    "mlflow_experiment_path = \"/Users/austin.choi@databricks.com/dspy_pyfunc_deploy\"\n",
    "mlflow.set_experiment(experiment_name=mlflow_experiment_path)\n",
    "\n",
    "# Get the experiment ID to use in the next step\n",
    "experiment_id = mlflow.tracking.fluent._get_experiment_id()\n",
    "print(experiment_id)\n"
   ]
  },
  {
   "cell_type": "code",
   "execution_count": 0,
   "metadata": {
    "application/vnd.databricks.v1+cell": {
     "cellMetadata": {
      "byteLimit": 2048000,
      "rowLimit": 10000
     },
     "inputWidgets": {},
     "nuid": "a1f7b448-110e-4640-b44d-e7c6ed6f68fc",
     "showTitle": false,
     "tableResultSettingsMap": {},
     "title": ""
    }
   },
   "outputs": [],
   "source": [
    "import dspy\n",
    "import mlflow\n",
    "llama = dspy.LM('databricks/databricks-meta-llama-3-3-70b-instruct', cache=False)\n",
    "# llama = dspy.LM('databricks/databricks-meta-llama-3-1-8b-instruct', cache=False)\n",
    "# claude = dspy.LM('databricks/databricks-claude-3-7-sonnet', cache=False)\n",
    "dspy.configure(lm=llama)\n",
    "mlflow.dspy.autolog()"
   ]
  },
  {
   "cell_type": "code",
   "execution_count": 0,
   "metadata": {
    "application/vnd.databricks.v1+cell": {
     "cellMetadata": {
      "byteLimit": 2048000,
      "rowLimit": 10000
     },
     "inputWidgets": {},
     "nuid": "85ad539a-0492-4905-be9b-31f73900da7e",
     "showTitle": false,
     "tableResultSettingsMap": {},
     "title": ""
    }
   },
   "outputs": [],
   "source": [
    "from unitycatalog.ai.core.databricks import DatabricksFunctionClient\n",
    "\n",
    "# Initialize the client, connecting to serverless\n",
    "client = DatabricksFunctionClient(execution_mode=\"local\")\n",
    "\n",
    "# Define the function\n",
    "def add_numbers(a: float, b: float) -> float:\n",
    "    \"\"\"\n",
    "    Adds two numbers and returns the result.\n",
    "\n",
    "    Args:\n",
    "        a (float): First number.\n",
    "        b (float): Second number.\n",
    "\n",
    "    Returns:\n",
    "        float: The sum of the two numbers.\n",
    "    \"\"\"\n",
    "    return a + b\n",
    "\n",
    "# Create the function in UC\n",
    "# client.create_python_function(\n",
    "#     func=add_numbers,\n",
    "#     catalog=\"austin_choi_demo_catalog\",\n",
    "#     schema=\"agents\"\n",
    "# )\n",
    "tools =[\"austin_choi_demo_catalog.agents.add_numbers\",\"system.ai.python_exec\"]\n",
    "\n",
    "# Execute the function\n",
    "# result = client.execute_function(\n",
    "#     \"austin_choi_demo_catalog.agents.add_numbers\",\n",
    "#     parameters={\"a\": 10.5, \"b\": 5.5}\n",
    "# )\n",
    "\n",
    "result = client.execute_function(\n",
    "    \"system.ai.python_exec\",\n",
    "    parameters={ \"code\": \"import pyjokes; print(pyjokes.get_joke())\"}\n",
    ")\n",
    "\n",
    "print(result.value)  # Outputs: 16.0"
   ]
  },
  {
   "cell_type": "code",
   "execution_count": 0,
   "metadata": {
    "application/vnd.databricks.v1+cell": {
     "cellMetadata": {
      "byteLimit": 2048000,
      "rowLimit": 10000
     },
     "inputWidgets": {},
     "nuid": "d1c8bd3e-23d2-458c-ae6e-0416ec7dbf39",
     "showTitle": false,
     "tableResultSettingsMap": {},
     "title": ""
    }
   },
   "outputs": [],
   "source": [
    "my_func_def = client.get_function_source(function_name=f\"system.ai.python_exec\")\n",
    "print(my_func_def)"
   ]
  },
  {
   "cell_type": "code",
   "execution_count": 0,
   "metadata": {
    "application/vnd.databricks.v1+cell": {
     "cellMetadata": {
      "byteLimit": 2048000,
      "rowLimit": 10000
     },
     "inputWidgets": {},
     "nuid": "95dcd9b3-a2df-44ec-9911-e95ae3869988",
     "showTitle": false,
     "tableResultSettingsMap": {},
     "title": ""
    }
   },
   "outputs": [],
   "source": [
    "functions = client.list_functions(catalog=\"austin_choi_demo_catalog\", schema=\"agents\", max_results=10)\n",
    "functions"
   ]
  },
  {
   "cell_type": "code",
   "execution_count": 0,
   "metadata": {
    "application/vnd.databricks.v1+cell": {
     "cellMetadata": {
      "byteLimit": 2048000,
      "rowLimit": 10000
     },
     "inputWidgets": {},
     "nuid": "cfa81ed7-a7e7-4ba5-b508-05d8874aa4f7",
     "showTitle": false,
     "tableResultSettingsMap": {},
     "title": ""
    }
   },
   "outputs": [],
   "source": [
    "def uc_function_executor(uc_tool, parameter): \n",
    "  result = client.execute_function(\n",
    "    uc_tool,\n",
    "    parameters=parameter\n",
    ")\n",
    "  return result.value\n"
   ]
  },
  {
   "cell_type": "code",
   "execution_count": 0,
   "metadata": {
    "application/vnd.databricks.v1+cell": {
     "cellMetadata": {
      "byteLimit": 2048000,
      "rowLimit": 10000
     },
     "inputWidgets": {},
     "nuid": "abef962a-20df-4e3f-a74d-2abb7ca9b12d",
     "showTitle": false,
     "tableResultSettingsMap": {},
     "title": ""
    }
   },
   "outputs": [],
   "source": [
    "def get_uc_information(uc_tool): \n",
    "  my_func_def = client.get_function_source(function_name=uc_tool)\n",
    "  return my_func_def\n"
   ]
  },
  {
   "cell_type": "code",
   "execution_count": 0,
   "metadata": {
    "application/vnd.databricks.v1+cell": {
     "cellMetadata": {
      "byteLimit": 2048000,
      "rowLimit": 10000
     },
     "inputWidgets": {},
     "nuid": "674303b4-b0c7-4c5f-9aa5-d20a2694f423",
     "showTitle": false,
     "tableResultSettingsMap": {},
     "title": ""
    }
   },
   "outputs": [],
   "source": [
    "import dspy\n",
    "from typing import Literal\n",
    "class uc_function_selector(dspy.Signature):\n",
    "  \"\"\"\n",
    "  Follow this routine:\n",
    "  1. Given list of unity_catalog_tools, pick the right unity_catalog_tool for the question \n",
    "  2. Use the get_uc_information to understand what the unity_catalog_tool does. Find what parameters the function expects\n",
    "  3. Change the question to a compatible input according to the parameter to make it compatible with the unity_catalog_tool based on get_uc_information. Double check typing of the input. The input looks like this {parameter_name: value compatible with parameter}\n",
    "  4. Then execute the tool using uc_function_executor\n",
    "  \"\"\" \n",
    "  question: str = dspy.InputField()\n",
    "  unity_catalog_tools: list = dspy.InputField()\n",
    "  response: str = dspy.OutputField() "
   ]
  },
  {
   "cell_type": "code",
   "execution_count": 0,
   "metadata": {
    "application/vnd.databricks.v1+cell": {
     "cellMetadata": {
      "byteLimit": 2048000,
      "rowLimit": 10000
     },
     "inputWidgets": {},
     "nuid": "b95255cb-3446-4a95-ad53-eddca11df250",
     "showTitle": false,
     "tableResultSettingsMap": {},
     "title": ""
    }
   },
   "outputs": [],
   "source": [
    "execute_unity_catalog = dspy.ReAct(uc_function_selector, tools=[get_uc_information,uc_function_executor],max_iters=2)"
   ]
  },
  {
   "cell_type": "code",
   "execution_count": 0,
   "metadata": {
    "application/vnd.databricks.v1+cell": {
     "cellMetadata": {
      "byteLimit": 2048000,
      "rowLimit": 10000
     },
     "inputWidgets": {},
     "nuid": "9f6dffbd-9349-4d0f-9695-34fef94665f1",
     "showTitle": false,
     "tableResultSettingsMap": {},
     "title": ""
    }
   },
   "outputs": [],
   "source": [
    "# question = \"add these numbers 2.0 and 3.0\"\n",
    "# question = \"Use Python to figure out how many rs are in the word strrawberry\"\n",
    "question = \"Use Python, import emoji, and emojize pything is :thumbs_up\"\n",
    "tools =[\"austin_choi_demo_catalog.agents.add_numbers\",\"system.ai.python_exec\"]\n",
    "result = execute_unity_catalog(question=question, unity_catalog_tools=tools)\n",
    "result.response"
   ]
  },
  {
   "cell_type": "code",
   "execution_count": 0,
   "metadata": {
    "application/vnd.databricks.v1+cell": {
     "cellMetadata": {
      "byteLimit": 2048000,
      "rowLimit": 10000
     },
     "inputWidgets": {},
     "nuid": "a176c7e0-4403-4a0c-ba0c-ed6c65f0a766",
     "showTitle": false,
     "tableResultSettingsMap": {},
     "title": ""
    }
   },
   "outputs": [],
   "source": [
    "%%writefile agent.py\n",
    "\n",
    "from typing import Any, Generator, Optional\n",
    "from databricks.sdk.service.dashboards import GenieAPI\n",
    "import mlflow\n",
    "from databricks.sdk import WorkspaceClient\n",
    "from mlflow.entities import SpanType\n",
    "from mlflow.pyfunc.model import ChatAgent\n",
    "from mlflow.types.agent import (\n",
    "    ChatAgentMessage,\n",
    "    ChatAgentResponse,\n",
    "    ChatContext,\n",
    ")\n",
    "import dspy\n",
    "import uuid\n",
    "\n",
    "# Autolog DSPy traces to MLflow\n",
    "mlflow.dspy.autolog()\n",
    "\n",
    "# Set up DSPy with a Databricks-hosted LLM\n",
    "LLM_ENDPOINT_NAME = \"databricks-meta-llama-3-3-70b-instruct\"\n",
    "lm = dspy.LM(model=f\"databricks/{LLM_ENDPOINT_NAME}\")\n",
    "dspy.settings.configure(lm=lm)\n",
    "\n",
    "class genie_selector_agent(dspy.Signature):\n",
    "  \"\"\"\n",
    "  Given the sql_instructions, determine which genie space tool to call, send the exact sql_instruction text to the tool and answer the question given the response from the tool.\n",
    "  \"\"\" \n",
    "  sql_instruction: str = dspy.InputField()\n",
    "  response: str = dspy.OutputField() \n",
    "  sql_query_output:  list = dspy.OutputField()\n",
    "\n",
    "class DSPyChatAgent(ChatAgent):     \n",
    "    def __init__(self):\n",
    "      self.genie_selector_agent = genie_selector_agent\n",
    "      self.multi_genie_agent = dspy.ReAct(self.genie_selector_agent, tools=[self.hls_patient_genie, self.investment_portfolio_genie], max_iters=1)\n",
    "\n",
    "    def hls_patient_genie(self, sql_instruction):\n",
    "\n",
    "      w = WorkspaceClient()\n",
    "      genie_space_id = \"01effef4c7e113f9b8952cf568b49ac7\"\n",
    "\n",
    "      # Start a conversation\n",
    "      conversation = w.genie.start_conversation_and_wait(\n",
    "          space_id=genie_space_id,\n",
    "          content=f\"{sql_instruction} always limit to one result\"\n",
    "      )\n",
    "\n",
    "      response = w.genie.get_message_attachment_query_result(\n",
    "        space_id=genie_space_id,\n",
    "        conversation_id=conversation.conversation_id,\n",
    "        message_id=conversation.message_id,\n",
    "        attachment_id=conversation.attachments[0].attachment_id\n",
    "      )\n",
    "\n",
    "      return response.statement_response.result.data_array\n",
    "\n",
    "    def investment_portfolio_genie(self, sql_instruction):\n",
    "\n",
    "      w = WorkspaceClient()\n",
    "      genie_space_id = \"01f030d91cc6165d88aaee122a274294\"\n",
    "\n",
    "      # Start a conversation\n",
    "      conversation = w.genie.start_conversation_and_wait(\n",
    "          space_id=genie_space_id,\n",
    "          content=f\"{sql_instruction} always limit to one result\"\n",
    "      )\n",
    "\n",
    "      response = w.genie.get_message_attachment_query_result(\n",
    "        space_id=genie_space_id,\n",
    "        conversation_id=conversation.conversation_id,\n",
    "        message_id=conversation.message_id,\n",
    "        attachment_id=conversation.attachments[0].attachment_id\n",
    "      )\n",
    "\n",
    "      return response.statement_response.result.data_array\n",
    "\n",
    "\n",
    "    def prepare_message_history(self, messages: list[ChatAgentMessage]):\n",
    "        history_entries = []\n",
    "        # Assume the last message in the input is the most recent user question.\n",
    "        for i in range(0, len(messages) - 1, 2):\n",
    "            history_entries.append({\"question\": messages[i].content, \"answer\": messages[i + 1].content})\n",
    "        return dspy.History(messages=history_entries)\n",
    "\n",
    "    @mlflow.trace(span_type=SpanType.AGENT)\n",
    "    def predict(\n",
    "        self,\n",
    "        messages: list[ChatAgentMessage],\n",
    "        context: Optional[ChatContext] = None,\n",
    "        custom_inputs: Optional[dict[str, Any]] = None,\n",
    "    ) -> ChatAgentResponse:\n",
    "        latest_question = messages[-1].content\n",
    "        response = self.multi_genie_agent(sql_instruction=latest_question).response\n",
    "        return ChatAgentResponse(\n",
    "            messages=[ChatAgentMessage(role=\"assistant\", content=response, id=uuid.uuid4().hex)]\n",
    "        )\n",
    "\n",
    "# Set model for logging or interactive testing\n",
    "from mlflow.models import set_model\n",
    "AGENT = DSPyChatAgent()\n",
    "set_model(AGENT)"
   ]
  },
  {
   "cell_type": "code",
   "execution_count": 0,
   "metadata": {
    "application/vnd.databricks.v1+cell": {
     "cellMetadata": {},
     "inputWidgets": {},
     "nuid": "7f11cd0b-106e-47a8-ba9b-46094cd00b89",
     "showTitle": false,
     "tableResultSettingsMap": {},
     "title": ""
    }
   },
   "outputs": [],
   "source": [
    "import mlflow\n",
    "from agent import LLM_ENDPOINT_NAME\n",
    "from mlflow.models.resources import (\n",
    "    DatabricksFunction,\n",
    "    DatabricksGenieSpace,\n",
    "    DatabricksServingEndpoint,\n",
    ")\n",
    "from pkg_resources import get_distribution\n",
    "\n",
    "resources = [\n",
    "    DatabricksServingEndpoint(endpoint_name=LLM_ENDPOINT_NAME),\n",
    "    DatabricksGenieSpace(genie_space_id=\"01f030d91cc6165d88aaee122a274294\"),\n",
    "    DatabricksGenieSpace(genie_space_id=\"01effef4c7e113f9b8952cf568b49ac7\"),\n",
    "]\n",
    "\n",
    "with mlflow.start_run():\n",
    "    logged_agent_info = mlflow.pyfunc.log_model(\n",
    "        artifact_path=\"agent\",\n",
    "        python_model=\"agent.py\",\n",
    "        # input_example=input_example,\n",
    "        extra_pip_requirements=[f\"databricks-connect=={get_distribution('databricks-connect').version}\"],\n",
    "        resources=resources,\n",
    "    )"
   ]
  }
 ],
 "metadata": {
  "application/vnd.databricks.v1+notebook": {
   "computePreferences": null,
   "dashboards": [],
   "environmentMetadata": {
    "base_environment": "",
    "environment_version": "2"
   },
   "inputWidgetPreferences": null,
   "language": "python",
   "notebookMetadata": {
    "pythonIndentUnit": 2
   },
   "notebookName": "DSPy Pyfunc Review Deploy",
   "widgets": {}
  },
  "language_info": {
   "name": "python"
  }
 },
 "nbformat": 4,
 "nbformat_minor": 0
}
