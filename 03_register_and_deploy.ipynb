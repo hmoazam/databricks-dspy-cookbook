{
 "cells": [
  {
   "cell_type": "code",
   "execution_count": 0,
   "metadata": {
    "application/vnd.databricks.v1+cell": {
     "cellMetadata": {
      "byteLimit": 2048000,
      "rowLimit": 10000
     },
     "inputWidgets": {},
     "nuid": "28d6e611-eff7-4fe9-a595-f9427a93b9df",
     "showTitle": false,
     "tableResultSettingsMap": {},
     "title": ""
    }
   },
   "outputs": [],
   "source": [
    "%pip install -q git+https://github.com/stanfordnlp/dspy.git databricks-agents mlflow databricks-vectorsearch\n",
    "dbutils.library.restartPython()"
   ]
  },
  {
   "cell_type": "code",
   "execution_count": 0,
   "metadata": {
    "application/vnd.databricks.v1+cell": {
     "cellMetadata": {
      "byteLimit": 2048000,
      "rowLimit": 10000
     },
     "inputWidgets": {},
     "nuid": "4a3e9bda-1d51-489a-8bd6-14309cc83fa0",
     "showTitle": false,
     "tableResultSettingsMap": {},
     "title": ""
    }
   },
   "outputs": [],
   "source": [
    "import mlflow"
   ]
  },
  {
   "cell_type": "code",
   "execution_count": 0,
   "metadata": {
    "application/vnd.databricks.v1+cell": {
     "cellMetadata": {},
     "inputWidgets": {},
     "nuid": "ff646856-ea14-411d-af9c-0368d590ca7c",
     "showTitle": false,
     "tableResultSettingsMap": {},
     "title": ""
    }
   },
   "outputs": [],
   "source": [
    "from mlflow.models.resources import (\n",
    "    DatabricksVectorSearchIndex,\n",
    "    DatabricksServingEndpoint,\n",
    ")\n",
    "import pkg_resources\n",
    "\n",
    "# Setup Agent name\n",
    "uc_model_name = model_name \n",
    "\n",
    "# Instantiating Agent\n",
    "mosaic_agent_rag = RAG(for_mosaic_agent=True)\n",
    "\n",
    "# Loading optimized DSPy state\n",
    "mosaic_agent_rag.load(\"optimized_rag.json\")\n",
    "\n",
    "# Logging Agent into Unity Catalog\n",
    "with mlflow.start_run(run_name=\"simple_dspy_rag\") as run:\n",
    "    uc_registered_model_info = mlflow.dspy.log_model(\n",
    "        mosaic_agent_rag, \n",
    "        \"model\",\n",
    "        input_example={\n",
    "            \"messages\": [\n",
    "                {\n",
    "                    \"role\": \"user\",\n",
    "                    \"content\": \"cmd+tab does not work on hidden or minimized windows\",\n",
    "                }\n",
    "            ]\n",
    "        },\n",
    "        task=\"llm/v1/chat\",\n",
    "        registered_model_name=uc_model_name,\n",
    "        pip_requirements=[\n",
    "            \"--pre mlflow==2.19.0rc0\", \n",
    "            f\"dspy=={pkg_resources.get_distribution('dspy').version}\",\n",
    "        ],\n",
    "        resources=[\n",
    "            DatabricksVectorSearchIndex(\n",
    "                index_name=\"main.luis_moros.colbertv2_text_set_index\"\n",
    "            ),\n",
    "            DatabricksServingEndpoint(\n",
    "                endpoint_name=\"neurips_gte_large_en_v1_5_provisioned_throughput\"\n",
    "            ),\n",
    "            DatabricksServingEndpoint(\n",
    "                endpoint_name=\"neurips_llama_v3_2_3b_provisioned_throughput\"\n",
    "            ),\n",
    "        ],\n",
    "    )"
   ]
  }
 ],
 "metadata": {
  "application/vnd.databricks.v1+notebook": {
   "computePreferences": null,
   "dashboards": [],
   "environmentMetadata": {
    "base_environment": "",
    "environment_version": "2"
   },
   "inputWidgetPreferences": null,
   "language": "python",
   "notebookMetadata": {
    "pythonIndentUnit": 2
   },
   "notebookName": "03_register_and_deploy",
   "widgets": {}
  },
  "language_info": {
   "name": "python"
  }
 },
 "nbformat": 4,
 "nbformat_minor": 0
}
